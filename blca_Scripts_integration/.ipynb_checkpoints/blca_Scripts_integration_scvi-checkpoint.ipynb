{
 "cells": [
  {
   "cell_type": "code",
   "execution_count": 19,
   "id": "e8e9331a-f535-4288-8206-9b432ae464ea",
   "metadata": {},
   "outputs": [
    {
     "name": "stdout",
     "output_type": "stream",
     "text": [
      "-----\n",
      "anndata     0.10.8\n",
      "scanpy      1.10.2\n",
      "-----\n",
      "MulticoreTSNE       NA\n",
      "PIL                 10.4.0\n",
      "absl                NA\n",
      "anyio               NA\n",
      "appnope             0.1.4\n",
      "asttokens           NA\n",
      "backoff             2.2.1\n",
      "brotli              1.1.0\n",
      "bs4                 4.12.3\n",
      "certifi             2024.07.04\n",
      "cffi                1.16.0\n",
      "charset_normalizer  3.3.2\n",
      "chex                0.1.86\n",
      "click               8.1.7\n",
      "colorama            0.4.6\n",
      "comm                0.2.2\n",
      "contextlib2         NA\n",
      "croniter            NA\n",
      "cycler              0.12.1\n",
      "cython_runtime      NA\n",
      "dateutil            2.9.0\n",
      "debugpy             1.8.2\n",
      "decorator           5.1.1\n",
      "deepdiff            7.0.1\n",
      "docrep              0.3.2\n",
      "email_validator     2.2.0\n",
      "etils               1.9.2\n",
      "executing           2.0.1\n",
      "fastapi             0.111.0\n",
      "flax                0.8.5\n",
      "fsspec              2024.6.1\n",
      "gmpy2               2.1.5\n",
      "google              NA\n",
      "h5py                3.11.0\n",
      "idna                3.7\n",
      "importlib_resources NA\n",
      "ipykernel           6.29.5\n",
      "jax                 0.4.28\n",
      "jaxlib              0.4.28.dev20240710\n",
      "jedi                0.19.1\n",
      "joblib              1.4.2\n",
      "kiwisolver          1.4.5\n",
      "legacy_api_wrap     NA\n",
      "lightning           2.0.9.post0\n",
      "lightning_cloud     0.5.70\n",
      "lightning_utilities 0.11.3.post0\n",
      "llvmlite            0.43.0\n",
      "loompy              3.0.6\n",
      "matplotlib          3.9.1\n",
      "ml_collections      NA\n",
      "ml_dtypes           0.4.0\n",
      "mpl_toolkits        NA\n",
      "mpmath              1.3.0\n",
      "msgpack             1.0.8\n",
      "mudata              0.2.4\n",
      "multipart           0.0.9\n",
      "multipledispatch    0.6.0\n",
      "natsort             8.4.0\n",
      "numba               0.60.0\n",
      "numpy               1.26.4\n",
      "numpy_groupies      0.11.1\n",
      "numpyro             0.15.0\n",
      "opt_einsum          v3.3.0\n",
      "optax               0.2.2\n",
      "ordered_set         4.1.0\n",
      "orjson              3.10.6\n",
      "packaging           24.1\n",
      "pandas              2.2.2\n",
      "parso               0.8.4\n",
      "patsy               0.5.6\n",
      "pickleshare         0.7.5\n",
      "pkg_resources       NA\n",
      "platformdirs        4.2.2\n",
      "prompt_toolkit      3.0.47\n",
      "psutil              6.0.0\n",
      "pure_eval           0.2.2\n",
      "pycparser           2.22\n",
      "pydantic            1.10.16\n",
      "pydev_ipython       NA\n",
      "pydevconsole        NA\n",
      "pydevd              2.9.5\n",
      "pydevd_file_utils   NA\n",
      "pydevd_plugins      NA\n",
      "pydevd_tracing      NA\n",
      "pygments            2.18.0\n",
      "pyparsing           3.1.2\n",
      "pyro                1.9.1+0a67ddc\n",
      "pytz                2024.1\n",
      "requests            2.32.3\n",
      "rich                NA\n",
      "scipy               1.14.0\n",
      "scvi                1.1.5\n",
      "seaborn             0.13.2\n",
      "session_info        1.0.0\n",
      "six                 1.16.0\n",
      "sklearn             1.5.1\n",
      "sniffio             1.3.1\n",
      "socks               1.7.1\n",
      "soupsieve           2.5\n",
      "sparse              0.15.4\n",
      "stack_data          0.6.2\n",
      "starlette           0.37.2\n",
      "statsmodels         0.14.2\n",
      "sympy               1.12.1\n",
      "threadpoolctl       3.5.0\n",
      "toolz               0.12.1\n",
      "torch               2.3.1.post101\n",
      "torchgen            NA\n",
      "torchmetrics        1.4.0.post0\n",
      "tornado             6.4.1\n",
      "tqdm                4.66.4\n",
      "traitlets           5.14.3\n",
      "typing_extensions   NA\n",
      "ujson               5.10.0\n",
      "urllib3             2.2.2\n",
      "uvicorn             0.30.1\n",
      "vscode              NA\n",
      "wcwidth             0.2.13\n",
      "websocket           1.8.0\n",
      "websockets          12.0\n",
      "yaml                6.0.1\n",
      "zmq                 26.0.3\n",
      "zstandard           0.22.0\n",
      "-----\n",
      "IPython             8.26.0\n",
      "jupyter_client      8.6.2\n",
      "jupyter_core        5.7.2\n",
      "-----\n",
      "Python 3.12.4 | packaged by conda-forge | (main, Jun 17 2024, 10:11:10) [Clang 16.0.6 ]\n",
      "macOS-13.4-x86_64-i386-64bit\n",
      "-----\n",
      "Session information updated at 2024-07-11 23:43\n"
     ]
    }
   ],
   "source": [
    "import os\n",
    "import anndata\n",
    "import numpy as np\n",
    "import pandas as pd\n",
    "import scanpy as sc\n",
    "import loompy as lp\n",
    "from MulticoreTSNE import MulticoreTSNE as TSNE\n",
    "import seaborn as sns\n",
    "import matplotlib.pyplot as plt\n",
    "import scipy\n",
    "import csv\n",
    "import gzip\n",
    "import anndata as ad\n",
    "from pathlib import Path\n",
    "import glob\n",
    "from sklearn.preprocessing import StandardScaler\n",
    "from matplotlib.colors import ListedColormap\n",
    "\n",
    "\n",
    "sc.settings.verbosity = 3 # verbosity: errors (0), warnings (1), info (2), hints (3)\n",
    "sc.logging.print_versions()\n",
    "sc.set_figure_params(dpi=150, fontsize=10, dpi_save=600)"
   ]
  },
  {
   "cell_type": "code",
   "execution_count": 20,
   "id": "5ac22e84-3d41-4b1d-89bf-530acda3a348",
   "metadata": {},
   "outputs": [],
   "source": [
    "import scvi\n",
    "import scanpy as sc\n",
    "import os\n",
    "import numpy as np\n",
    "from matplotlib.pyplot import rc_context\n",
    "import pandas as pd\n",
    "\n"
   ]
  },
  {
   "cell_type": "code",
   "execution_count": 9,
   "id": "e5ebbb99-1bfe-44cc-a5d3-d3ea2ac4ec7f",
   "metadata": {},
   "outputs": [
    {
     "name": "stdout",
     "output_type": "stream",
     "text": [
      "['GSM5288674_Sample-11', '.DS_Store', 'GSM5288670_Sample-5_', 'GSM5288672_Sample-7_', 'GSM5288673_Sample-8_', 'GSM5288668_Sample-3_', 'GSM5288671_Sample-6_', 'GSM5288669_Sample-4_', '.Rhistory']\n"
     ]
    }
   ],
   "source": [
    "# Define the directory path\n",
    "directory = '/Users/lidiayung/PhD_project/project_UCD_blca/blca_DATA/blca_DATA_mouse_GSE174182_RAW'\n",
    "# Get the list of files in the directory (non-recursive)\n",
    "dirs = os.listdir(directory)\n",
    "\n",
    "# Create an empty list to store the names\n",
    "names_list = []\n",
    "\n",
    "# Extract the unique names from the first 20 characters of the filenames\n",
    "for x in dirs:\n",
    "    name = x[:20]\n",
    "    names_list.append(name)\n",
    "\n",
    "# Remove duplicates by converting to a set and then back to a list\n",
    "names_list = list(set(names_list))\n",
    "\n",
    "# Print the unique names\n",
    "print(names_list)\n"
   ]
  },
  {
   "cell_type": "code",
   "execution_count": 10,
   "id": "5ea901b7-d1c6-4154-af31-e48135283b91",
   "metadata": {},
   "outputs": [],
   "source": [
    "os.chdir(directory)\n"
   ]
  },
  {
   "cell_type": "code",
   "execution_count": 11,
   "id": "d27f7cd4-fab4-4981-9213-afe2b879ef8d",
   "metadata": {},
   "outputs": [],
   "source": [
    "names_list=['GSM5288669_Sample-4_', 'GSM5288670_Sample-5_']#, 'GSM5288671_Sample-6_', \n",
    "            #'GSM5288668_Sample-3_', 'GSM5288672_Sample-7_', 'GSM5288673_Sample-8_', 'GSM5288674_Sample-11']"
   ]
  },
  {
   "cell_type": "code",
   "execution_count": 12,
   "id": "6aaf231d-b977-44ae-a34c-fd22630963ca",
   "metadata": {
    "scrolled": true
   },
   "outputs": [
    {
     "name": "stderr",
     "output_type": "stream",
     "text": [
      "/var/folders/qq/n8l4bgxs53j_s3twq5jzc7g00000gn/T/ipykernel_81167/2155331927.py:22: ImplicitModificationWarning: Trying to modify attribute `.obs` of view, initializing view as actual.\n",
      "  adata.obs['source'] = name[:10]\n",
      "/var/folders/qq/n8l4bgxs53j_s3twq5jzc7g00000gn/T/ipykernel_81167/2155331927.py:22: ImplicitModificationWarning: Trying to modify attribute `.obs` of view, initializing view as actual.\n",
      "  adata.obs['source'] = name[:10]\n"
     ]
    }
   ],
   "source": [
    "adata_list = []\n",
    "\n",
    "# Loop over each sample and read in the AnnData object\n",
    "for name in names_list:\n",
    "\n",
    "    mtx =f\"{name}filtered_matrix.mtx.gz\"\n",
    "    adata = sc.read_mtx(mtx)\n",
    "    cells=pd.read_csv(f'{name}filtered_barcodes.tsv.gz',header=None)\n",
    "    features=pd.read_csv(f'{name}filtered_features.tsv.gz',header=None,sep='\\t')\n",
    "    adata= adata.T\n",
    "    #check the columns first to make sure they are the ones you need \n",
    "    adata.obs['CellID']= cells[0].tolist()\n",
    "    adata.var['Gene']= features[1].tolist()\n",
    "    adata.var.index= adata.var['Gene']\n",
    "    adata.var_names_make_unique() \n",
    "\n",
    "    sc.pp.filter_cells(adata, min_genes=300)\n",
    "    sc.pp.calculate_qc_metrics(adata, percent_top=None, log1p=False, inplace=True)\n",
    "    upper_lim = np.quantile(adata.obs.n_genes_by_counts.values, .97)\n",
    "    adata = adata[adata.obs.n_genes_by_counts < upper_lim]\n",
    "\n",
    "    adata.obs['source'] = name[:10]\n",
    "    adata_list.append(adata)"
   ]
  },
  {
   "cell_type": "code",
   "execution_count": 13,
   "id": "ef371483-0f68-41c4-a50b-fb6932ae7705",
   "metadata": {},
   "outputs": [
    {
     "name": "stderr",
     "output_type": "stream",
     "text": [
      "/var/folders/qq/n8l4bgxs53j_s3twq5jzc7g00000gn/T/ipykernel_81167/1379501109.py:2: FutureWarning: Use anndata.concat instead of AnnData.concatenate, AnnData.concatenate is deprecated and will be removed in the future. See the tutorial for concat at: https://anndata.readthedocs.io/en/latest/concatenation.html\n",
      "  adata = adata_list[0].concatenate(adata_list[1:], batch_key='source', batch_categories=batch_names)\n"
     ]
    }
   ],
   "source": [
    "batch_names = [adata.obs['source'].iloc[0] for adata in adata_list]\n",
    "adata = adata_list[0].concatenate(adata_list[1:], batch_key='source', batch_categories=batch_names)                                  "
   ]
  },
  {
   "cell_type": "code",
   "execution_count": 14,
   "id": "fffdd887-a6d6-41c1-b7dc-0e58b4891f08",
   "metadata": {},
   "outputs": [
    {
     "data": {
      "text/plain": [
       "AnnData object with n_obs × n_vars = 14063 × 31053\n",
       "    obs: 'CellID', 'n_genes', 'n_genes_by_counts', 'total_counts', 'source'\n",
       "    var: 'Gene', 'n_cells_by_counts-GSM5288669', 'mean_counts-GSM5288669', 'pct_dropout_by_counts-GSM5288669', 'total_counts-GSM5288669', 'n_cells_by_counts-GSM5288670', 'mean_counts-GSM5288670', 'pct_dropout_by_counts-GSM5288670', 'total_counts-GSM5288670'"
      ]
     },
     "execution_count": 14,
     "metadata": {},
     "output_type": "execute_result"
    }
   ],
   "source": [
    "adata"
   ]
  },
  {
   "cell_type": "code",
   "execution_count": 15,
   "id": "62b04579-8690-477f-a97c-98dd74c5c577",
   "metadata": {},
   "outputs": [],
   "source": [
    "adata.layers['counts'] = adata.X.copy()"
   ]
  },
  {
   "cell_type": "code",
   "execution_count": 16,
   "id": "8f54680d-7875-47f1-92c6-4d869bc461b1",
   "metadata": {},
   "outputs": [
    {
     "data": {
      "text/plain": [
       "AnnData object with n_obs × n_vars = 14063 × 31053\n",
       "    obs: 'CellID', 'n_genes', 'n_genes_by_counts', 'total_counts', 'source'\n",
       "    var: 'Gene', 'n_cells_by_counts-GSM5288669', 'mean_counts-GSM5288669', 'pct_dropout_by_counts-GSM5288669', 'total_counts-GSM5288669', 'n_cells_by_counts-GSM5288670', 'mean_counts-GSM5288670', 'pct_dropout_by_counts-GSM5288670', 'total_counts-GSM5288670'\n",
       "    layers: 'counts'"
      ]
     },
     "execution_count": 16,
     "metadata": {},
     "output_type": "execute_result"
    }
   ],
   "source": [
    "adata"
   ]
  },
  {
   "cell_type": "code",
   "execution_count": 17,
   "id": "20e281e8-3f00-4e64-a054-88e87e64e738",
   "metadata": {},
   "outputs": [],
   "source": [
    "\n",
    "scvi.model.SCVI.setup_anndata(adata, layer = \"counts\",\n",
    "                             categorical_covariate_keys=[\"source\"],\n",
    "                             continuous_covariate_keys=['total_counts'])\n",
    "\n",
    "\n",
    "model = scvi.model.SCVI(adata)"
   ]
  },
  {
   "cell_type": "code",
   "execution_count": 18,
   "id": "4db4021e-463f-44dd-892f-a34d97202f1e",
   "metadata": {},
   "outputs": [
    {
     "data": {
      "text/html": [
       "<pre style=\"white-space:pre;overflow-x:auto;line-height:normal;font-family:Menlo,'DejaVu Sans Mono',consolas,'Courier New',monospace\">SCVI model with the following parameters: \n",
       "n_hidden: <span style=\"color: #008080; text-decoration-color: #008080; font-weight: bold\">128</span>, n_latent: <span style=\"color: #008080; text-decoration-color: #008080; font-weight: bold\">10</span>, n_layers: <span style=\"color: #008080; text-decoration-color: #008080; font-weight: bold\">1</span>, dropout_rate: <span style=\"color: #008080; text-decoration-color: #008080; font-weight: bold\">0.1</span>, dispersion: gene, gene_likelihood: zinb, \n",
       "latent_distribution: normal.\n",
       "Training status: Not Trained\n",
       "Model's adata is minified?: <span style=\"color: #ff0000; text-decoration-color: #ff0000; font-style: italic\">False</span>\n",
       "</pre>\n"
      ],
      "text/plain": [
       "SCVI model with the following parameters: \n",
       "n_hidden: \u001b[1;36m128\u001b[0m, n_latent: \u001b[1;36m10\u001b[0m, n_layers: \u001b[1;36m1\u001b[0m, dropout_rate: \u001b[1;36m0.1\u001b[0m, dispersion: gene, gene_likelihood: zinb, \n",
       "latent_distribution: normal.\n",
       "Training status: Not Trained\n",
       "Model's adata is minified?: \u001b[3;91mFalse\u001b[0m\n"
      ]
     },
     "metadata": {},
     "output_type": "display_data"
    },
    {
     "data": {
      "text/plain": []
     },
     "execution_count": 18,
     "metadata": {},
     "output_type": "execute_result"
    }
   ],
   "source": [
    "model\n"
   ]
  }
 ],
 "metadata": {
  "kernelspec": {
   "display_name": "Python 3 (ipykernel)",
   "language": "python",
   "name": "python3"
  },
  "language_info": {
   "codemirror_mode": {
    "name": "ipython",
    "version": 3
   },
   "file_extension": ".py",
   "mimetype": "text/x-python",
   "name": "python",
   "nbconvert_exporter": "python",
   "pygments_lexer": "ipython3",
   "version": "3.12.4"
  }
 },
 "nbformat": 4,
 "nbformat_minor": 5
}
