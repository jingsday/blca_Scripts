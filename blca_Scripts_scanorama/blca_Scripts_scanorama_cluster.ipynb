{
 "cells": [
  {
   "cell_type": "code",
   "execution_count": 1,
   "metadata": {},
   "outputs": [
    {
     "name": "stdout",
     "output_type": "stream",
     "text": [
      "-----\n",
      "anndata     0.10.8\n",
      "scanpy      1.10.2\n",
      "-----\n",
      "PIL                 10.4.0\n",
      "annoy               NA\n",
      "asttokens           NA\n",
      "colorama            0.4.6\n",
      "comm                0.2.2\n",
      "cycler              0.12.1\n",
      "cython_runtime      NA\n",
      "dateutil            2.9.0\n",
      "debugpy             1.8.2\n",
      "decorator           5.1.1\n",
      "executing           2.0.1\n",
      "fbpca               NA\n",
      "h5py                3.11.0\n",
      "intervaltree        NA\n",
      "ipykernel           6.29.5\n",
      "jedi                0.19.1\n",
      "joblib              1.4.2\n",
      "kiwisolver          1.4.5\n",
      "legacy_api_wrap     NA\n",
      "llvmlite            0.43.0\n",
      "matplotlib          3.9.1\n",
      "mpl_toolkits        NA\n",
      "natsort             8.4.0\n",
      "numba               0.60.0\n",
      "numpy               1.26.4\n",
      "packaging           24.1\n",
      "pandas              2.2.2\n",
      "parso               0.8.4\n",
      "patsy               0.5.6\n",
      "pickleshare         0.7.5\n",
      "platformdirs        4.2.2\n",
      "prompt_toolkit      3.0.47\n",
      "psutil              6.0.0\n",
      "pure_eval           0.2.3\n",
      "pydev_ipython       NA\n",
      "pydevconsole        NA\n",
      "pydevd              2.9.5\n",
      "pydevd_file_utils   NA\n",
      "pydevd_plugins      NA\n",
      "pydevd_tracing      NA\n",
      "pygments            2.18.0\n",
      "pyparsing           3.1.2\n",
      "pytz                2024.1\n",
      "scanorama           1.7.4\n",
      "scipy               1.14.0\n",
      "seaborn             0.13.2\n",
      "session_info        1.0.0\n",
      "six                 1.16.0\n",
      "sklearn             1.5.1\n",
      "sortedcontainers    2.4.0\n",
      "stack_data          0.6.2\n",
      "statsmodels         0.14.2\n",
      "threadpoolctl       3.5.0\n",
      "tornado             6.4.1\n",
      "traitlets           5.14.3\n",
      "vscode              NA\n",
      "wcwidth             0.2.13\n",
      "zmq                 26.0.3\n",
      "-----\n",
      "IPython             8.26.0\n",
      "jupyter_client      8.6.2\n",
      "jupyter_core        5.7.2\n",
      "-----\n",
      "Python 3.12.4 | packaged by conda-forge | (main, Jun 17 2024, 10:23:07) [GCC 12.3.0]\n",
      "Linux-6.8.0-35-generic-x86_64-with-glibc2.39\n",
      "-----\n",
      "Session information updated at 2024-07-26 14:05\n",
      "['GSM5288671_Sample-6_', 'GSM5288668_Sample-3_', 'GSM5288670_Sample-5_', 'GSM5288673_Sample-8_', 'GSM5288669_Sample-4_', '.Rhistory', 'GSM5288672_Sample-7_', 'GSM5288674_Sample-11', '.DS_Store']\n"
     ]
    }
   ],
   "source": [
    "import scanpy as sc\n",
    "import anndata as an\n",
    "import pandas as pd\n",
    "import numpy as np\n",
    "import matplotlib.pyplot as plt\n",
    "import seaborn as sns\n",
    "import scanorama\n",
    "from scipy.sparse import csr_matrix\n",
    "\n",
    "from pathlib import Path\n",
    "import os\n",
    "\n",
    "sc.logging.print_versions()\n",
    "sc.set_figure_params(facecolor=\"white\", figsize=(8, 8))\n",
    "sc.settings.verbosity = 3\n",
    "\n",
    "# Define the directory path\n",
    "directory = '/home/jyang/Phd_project/project_UCD_blca/blca_DATA/blca_DATA_mouse_GSE174182_RAW'\n",
    "\n",
    "# Get the list of files in the directory (non-recursive)\n",
    "dirs = os.listdir(directory)\n",
    "\n",
    "# Create an empty list to store the names\n",
    "names_list = []\n",
    "\n",
    "# Extract the unique names from the first 20 characters of the filenames\n",
    "for x in dirs:\n",
    "    name = x[:20]\n",
    "    names_list.append(name)\n",
    "\n",
    "# Remove duplicates by converting to a set and then back to a list\n",
    "names_list = list(set(names_list))\n",
    "\n",
    "# Print the unique names\n",
    "print(names_list)\n",
    "\n",
    "os.chdir(directory)\n",
    "\n",
    "names_list=['GSM5288669_Sample-4_', 'GSM5288670_Sample-5_', 'GSM5288671_Sample-6_', \n",
    "            'GSM5288668_Sample-3_', 'GSM5288672_Sample-7_', 'GSM5288673_Sample-8_', 'GSM5288674_Sample-11_']\n"
   ]
  },
  {
   "cell_type": "code",
   "execution_count": null,
   "metadata": {},
   "outputs": [],
   "source": [
    "adata_list = []\n",
    "\n",
    "# Loop over each sample and read in the AnnData object\n",
    "for name in names_list:\n",
    "\n",
    "    mtx =f\"{name}filtered_matrix.mtx.gz\"\n",
    "    adata = sc.read_mtx(mtx)\n",
    "    cells=pd.read_csv(f'{name}filtered_barcodes.tsv.gz',header=None)\n",
    "    features=pd.read_csv(f'{name}filtered_features.tsv.gz',header=None,sep='\\t')\n",
    "    adata= adata.T\n",
    "\n",
    "    #check the columns first to make sure they are the ones you need \n",
    "    adata.obs['CellID']= cells[0].tolist()\n",
    "    adata.var['Gene']= features[1].tolist()\n",
    "    adata.var.index= adata.var['Gene']\n",
    "    adata.var_names_make_unique() \n",
    "\n",
    "    sc.pp.filter_cells(adata, min_genes=300)\n",
    "    sc.pp.calculate_qc_metrics(adata, percent_top=None, log1p=False, inplace=True)\n",
    "    upper_lim = np.quantile(adata.obs.n_genes_by_counts.values, .97)\n",
    "    adata = adata[adata.obs.n_genes_by_counts < upper_lim]\n",
    "\n",
    "    adata.obs['source'] = name[:10]\n",
    "      \n",
    "    sc.pp.normalize_total(adata, inplace=True)\n",
    "    sc.pp.log1p(adata)\n",
    "    sc.pp.highly_variable_genes(adata, flavor=\"seurat\", n_top_genes=2000, inplace=True)\n",
    "    \n",
    "    adata_list.append(adata)\n"
   ]
  },
  {
   "cell_type": "code",
   "execution_count": null,
   "metadata": {},
   "outputs": [],
   "source": [
    "adatas_csr = []\n",
    "for ad in adata_list:\n",
    "    # Convert the X attribute to CSR format if it's not already in CSR format\n",
    "    if not isinstance(ad.X, csr_matrix):\n",
    "        ad.X = ad.X.tocsr()\n",
    "    adatas_csr.append(ad)\n",
    "\n",
    "# Now run scanorama.correct_scanpy with the CSR formatted AnnData objects\n",
    "adatas_cor = scanorama.correct_scanpy(adatas_csr, return_dimred=True)"
   ]
  },
  {
   "cell_type": "code",
   "execution_count": null,
   "metadata": {},
   "outputs": [],
   "source": [
    "\n",
    "batch_names = [adata.obs['source'].iloc[0] for adata in adatas_cor]\n",
    "\n",
    "adatas_cor_full = adatas_cor[0].concatenate(adatas_cor[1:], batch_key='source', batch_categories=batch_names)                                  \n"
   ]
  },
  {
   "cell_type": "code",
   "execution_count": null,
   "metadata": {},
   "outputs": [],
   "source": [
    "adatas_cor_full"
   ]
  },
  {
   "cell_type": "code",
   "execution_count": null,
   "metadata": {},
   "outputs": [],
   "source": [
    "\n",
    "adatas_cor_full.write_h5ad('/home/jyang/Phd_project/project_UCD_blca/blca_OUTPUT/blca_OUTPUT_scanorama_cor_full.h5ad')\n"
   ]
  },
  {
   "cell_type": "code",
   "execution_count": null,
   "metadata": {},
   "outputs": [],
   "source": [
    "\n",
    "sc.pp.neighbors(adatas_cor_full, use_rep=\"X_scanorama\")\n",
    "sc.tl.umap(adatas_cor_full)\n",
    "sc.tl.leiden(\n",
    "    adatas_cor_full, key_added=\"leiden01\", n_iterations=2, flavor=\"igraph\", directed=False,resolution=0.1\n",
    ")\n",
    "\n",
    "sc.pl.umap(\n",
    "    adatas_cor_full, color=[\"leiden01\", \"source\"], palette=sc.pl.palettes.default_20,save='blca_scanorama_umap_leiden01.svg'\n",
    ")\n"
   ]
  },
  {
   "cell_type": "code",
   "execution_count": null,
   "metadata": {},
   "outputs": [],
   "source": [
    "sc.tl.rank_genes_groups(adatas_cor_full, \"leiden01\", method=\"t-test\")\n",
    "sc.pl.rank_genes_groups(adatas_cor_full, n_genes=25, sharey=False)"
   ]
  },
  {
   "cell_type": "code",
   "execution_count": null,
   "metadata": {},
   "outputs": [],
   "source": [
    "sc.tl.leiden(\n",
    "    adatas_cor_full, key_added=\"leiden005\", n_iterations=2, flavor=\"igraph\", directed=False,resolution=0.05\n",
    ")\n",
    "\n",
    "sc.pl.umap(\n",
    "    adatas_cor_full, color=[\"leiden005\", \"source\"], palette=sc.pl.palettes.default_20,save='blca_scanorama_umap_leiden005.svg'\n",
    ")"
   ]
  },
  {
   "cell_type": "code",
   "execution_count": null,
   "metadata": {},
   "outputs": [],
   "source": [
    "sc.tl.rank_genes_groups(adatas_cor_full, \"leiden005\", method=\"t-test\")\n",
    "sc.pl.rank_genes_groups(adatas_cor_full, n_genes=25, sharey=False)"
   ]
  },
  {
   "cell_type": "code",
   "execution_count": null,
   "metadata": {},
   "outputs": [],
   "source": [
    "sc.tl.leiden(\n",
    "    adatas_cor_full, key_added=\"leiden001\", n_iterations=2, flavor=\"igraph\", directed=False,resolution=0.01\n",
    ")\n",
    "\n",
    "sc.pl.umap(\n",
    "    adatas_cor_full, color=[\"leiden005\", \"source\"], palette=sc.pl.palettes.default_20,save='blca_scanorama_umap_leiden001.svg'\n",
    ")"
   ]
  },
  {
   "cell_type": "code",
   "execution_count": null,
   "metadata": {},
   "outputs": [],
   "source": [
    "sc.pl.umap(adatas_cor_full,color=['leiden005','Upk2','Upk1a','Upk1b','Cdh1','Upk3a','Upk3b','Ivl'])"
   ]
  },
  {
   "cell_type": "code",
   "execution_count": null,
   "metadata": {},
   "outputs": [],
   "source": [
    "sc.pl.violin(adatas_cor_full,['Upk2','Upk1a','Upk1b','Cdh1','Upk3a','Upk3b','Ivl'],groupby='leiden005')"
   ]
  },
  {
   "cell_type": "code",
   "execution_count": null,
   "metadata": {},
   "outputs": [],
   "source": [
    "sc.pl.umap(adatas_cor_full,color=['leiden001','Upk2','Upk1a','Upk1b','Cdh1','Upk3a','Upk3b','Ivl'])"
   ]
  },
  {
   "cell_type": "code",
   "execution_count": null,
   "metadata": {},
   "outputs": [],
   "source": [
    "sc.pl.violin(adatas_cor_full,['Upk2','Upk1a','Upk1b','Cdh1','Upk3a','Upk3b','Ivl'],groupby='leiden001')"
   ]
  },
  {
   "cell_type": "code",
   "execution_count": null,
   "metadata": {},
   "outputs": [],
   "source": [
    "sc.pl.umap(adatas_cor_full,color=['leiden01','Upk2','Upk1a','Upk1b','Cdh1','Upk3a','Upk3b','Ivl'])"
   ]
  },
  {
   "cell_type": "code",
   "execution_count": null,
   "metadata": {},
   "outputs": [],
   "source": [
    "sc.pl.violin(adatas_cor_full,['Upk2','Upk1a','Upk1b','Cdh1','Upk3a','Upk3b','Ivl'],groupby='leiden01')"
   ]
  },
  {
   "cell_type": "code",
   "execution_count": null,
   "metadata": {},
   "outputs": [],
   "source": [
    "adatas_cor_full.obs['leiden01'].value_counts(ascending=False)\n"
   ]
  },
  {
   "cell_type": "code",
   "execution_count": null,
   "metadata": {},
   "outputs": [],
   "source": [
    "adatas_cor_full.obs['leiden005'].value_counts(ascending=False)\n"
   ]
  },
  {
   "cell_type": "code",
   "execution_count": null,
   "metadata": {},
   "outputs": [],
   "source": [
    "adatas_cor_full.obs['leiden001'].value_counts(ascending=False)\n"
   ]
  }
 ],
 "metadata": {
  "kernelspec": {
   "display_name": "Python 3",
   "language": "python",
   "name": "python3"
  },
  "language_info": {
   "codemirror_mode": {
    "name": "ipython",
    "version": 3
   },
   "file_extension": ".py",
   "mimetype": "text/x-python",
   "name": "python",
   "nbconvert_exporter": "python",
   "pygments_lexer": "ipython3",
   "version": "3.12.4"
  }
 },
 "nbformat": 4,
 "nbformat_minor": 2
}
