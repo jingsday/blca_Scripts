{
 "cells": [
  {
   "cell_type": "code",
   "execution_count": null,
   "metadata": {},
   "outputs": [],
   "source": [
    "import scanpy as sc\n",
    "import anndata as an\n",
    "import pandas as pd\n",
    "import numpy as np\n",
    "import matplotlib.pyplot as plt\n",
    "import seaborn as sns\n",
    "import scanorama\n",
    "from scipy.sparse import csr_matrix\n",
    "\n",
    "from pathlib import Path\n",
    "import os\n",
    "\n",
    "sc.logging.print_versions()\n",
    "sc.set_figure_params(facecolor=\"white\", figsize=(8, 8))\n",
    "sc.settings.verbosity = 3\n",
    "\n",
    "# Define the directory path\n",
    "directory = '/home/jyang/Phd_project/project_UCD_blca/blca_DATA/blca_DATA_mouse_GSE174182_RAW'\n",
    "\n",
    "# Get the list of files in the directory (non-recursive)\n",
    "dirs = os.listdir(directory)\n",
    "\n",
    "# Create an empty list to store the names\n",
    "names_list = []\n",
    "\n",
    "# Extract the unique names from the first 20 characters of the filenames\n",
    "for x in dirs:\n",
    "    name = x[:20]\n",
    "    names_list.append(name)\n",
    "\n",
    "# Remove duplicates by converting to a set and then back to a list\n",
    "names_list = list(set(names_list))\n",
    "\n",
    "# Print the unique names\n",
    "print(names_list)\n",
    "\n",
    "os.chdir(directory)\n",
    "\n",
    "names_list=['GSM5288669_Sample-4_', 'GSM5288670_Sample-5_', 'GSM5288671_Sample-6_', \n",
    "            'GSM5288668_Sample-3_', 'GSM5288672_Sample-7_', 'GSM5288673_Sample-8_', 'GSM5288674_Sample-11_']\n"
   ]
  },
  {
   "cell_type": "code",
   "execution_count": null,
   "metadata": {},
   "outputs": [],
   "source": [
    "adata_list = []\n",
    "\n",
    "# Loop over each sample and read in the AnnData object\n",
    "for name in names_list:\n",
    "\n",
    "    mtx =f\"{name}filtered_matrix.mtx.gz\"\n",
    "    adata = sc.read_mtx(mtx)\n",
    "    cells=pd.read_csv(f'{name}filtered_barcodes.tsv.gz',header=None)\n",
    "    features=pd.read_csv(f'{name}filtered_features.tsv.gz',header=None,sep='\\t')\n",
    "    adata= adata.T\n",
    "\n",
    "    #check the columns first to make sure they are the ones you need \n",
    "    adata.obs['CellID']= cells[0].tolist()\n",
    "    adata.var['Gene']= features[1].tolist()\n",
    "    adata.var.index= adata.var['Gene']\n",
    "    adata.var_names_make_unique() \n",
    "\n",
    "    sc.pp.filter_cells(adata, min_genes=300)\n",
    "    sc.pp.calculate_qc_metrics(adata, percent_top=None, log1p=False, inplace=True)\n",
    "    upper_lim = np.quantile(adata.obs.n_genes_by_counts.values, .97)\n",
    "    adata = adata[adata.obs.n_genes_by_counts < upper_lim]\n",
    "\n",
    "    adata.obs['source'] = name[:10]\n",
    "      \n",
    "    sc.pp.normalize_total(adata, inplace=True)\n",
    "    sc.pp.log1p(adata)\n",
    "    sc.pp.highly_variable_genes(adata, flavor=\"seurat\", n_top_genes=2000, inplace=True)\n",
    "    \n",
    "    adata_list.append(adata)\n"
   ]
  },
  {
   "cell_type": "code",
   "execution_count": null,
   "metadata": {},
   "outputs": [],
   "source": [
    "adatas_csr = []\n",
    "for ad in adata_list:\n",
    "    # Convert the X attribute to CSR format if it's not already in CSR format\n",
    "    if not isinstance(ad.X, csr_matrix):\n",
    "        ad.X = ad.X.tocsr()\n",
    "    adatas_csr.append(ad)\n",
    "\n",
    "# Now run scanorama.correct_scanpy with the CSR formatted AnnData objects\n",
    "adatas_cor = scanorama.correct_scanpy(adatas_csr, return_dimred=True)"
   ]
  },
  {
   "cell_type": "code",
   "execution_count": null,
   "metadata": {},
   "outputs": [],
   "source": [
    "\n",
    "batch_names = [adata.obs['source'].iloc[0] for adata in adatas_cor]\n",
    "\n",
    "adatas_cor_full = adatas_cor[0].concatenate(adatas_cor[1:], batch_key='source', batch_categories=batch_names)                                  \n"
   ]
  },
  {
   "cell_type": "code",
   "execution_count": null,
   "metadata": {},
   "outputs": [],
   "source": [
    "adatas_cor_full"
   ]
  },
  {
   "cell_type": "code",
   "execution_count": null,
   "metadata": {},
   "outputs": [],
   "source": [
    "\n",
    "adatas_cor_full.write_h5ad('/home/jyang/Phd_project/project_UCD_blca/blca_OUTPUT/blca_OUTPUT_scanorama_cor_full.h5ad')\n"
   ]
  },
  {
   "cell_type": "code",
   "execution_count": null,
   "metadata": {},
   "outputs": [],
   "source": [
    "\n",
    "sc.pp.neighbors(adatas_cor_full, use_rep=\"X_scanorama\")\n",
    "sc.tl.umap(adatas_cor_full)\n",
    "sc.tl.leiden(\n",
    "    adatas_cor_full, key_added=\"leiden01\", n_iterations=2, flavor=\"igraph\", directed=False,resolution=0.1\n",
    ")\n",
    "\n",
    "sc.pl.umap(\n",
    "    adatas_cor_full, color=[\"leiden01\", \"source\"], palette=sc.pl.palettes.default_20\n",
    ")\n"
   ]
  },
  {
   "cell_type": "code",
   "execution_count": null,
   "metadata": {},
   "outputs": [],
   "source": [
    "sc.tl.rank_genes_groups(adatas_cor_full, \"leiden01\", method=\"t-test\")\n",
    "sc.pl.rank_genes_groups(adatas_cor_full, n_genes=25, sharey=False)"
   ]
  },
  {
   "cell_type": "code",
   "execution_count": null,
   "metadata": {},
   "outputs": [],
   "source": [
    "sc.tl.leiden(\n",
    "    adatas_cor_full, key_added=\"leiden005\", n_iterations=2, flavor=\"igraph\", directed=False,resolution=0.05\n",
    ")\n",
    "\n",
    "sc.pl.umap(\n",
    "    adatas_cor_full, color=[\"leiden005\", \"source\"], palette=sc.pl.palettes.default_20\n",
    ")"
   ]
  },
  {
   "cell_type": "code",
   "execution_count": null,
   "metadata": {},
   "outputs": [],
   "source": [
    "sc.tl.rank_genes_groups(adatas_cor_full, \"leiden005\", method=\"t-test\")\n",
    "sc.pl.rank_genes_groups(adatas_cor_full, n_genes=25, sharey=False)"
   ]
  },
  {
   "cell_type": "code",
   "execution_count": null,
   "metadata": {},
   "outputs": [],
   "source": [
    "sc.pl.umap(adatas_cor_full,color=['clusters','Upk2','Upk1a','Upk1b','Cdh1','Upk3a','Upk3b','Ivl'])"
   ]
  },
  {
   "cell_type": "code",
   "execution_count": null,
   "metadata": {},
   "outputs": [],
   "source": [
    "sc.pl.violin(adatas_cor_full,['Upk2','Upk1a','Upk1b','Cdh1','Upk3a','Upk3b','Ivl'],groupby='clusters')"
   ]
  }
 ],
 "metadata": {
  "language_info": {
   "name": "python"
  }
 },
 "nbformat": 4,
 "nbformat_minor": 2
}
