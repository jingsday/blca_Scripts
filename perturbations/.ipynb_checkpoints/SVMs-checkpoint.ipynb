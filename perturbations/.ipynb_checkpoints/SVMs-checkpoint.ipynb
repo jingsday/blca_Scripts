{
 "cells": [
  {
   "cell_type": "code",
   "execution_count": null,
   "id": "8a5fd264-fee0-4d0c-b39f-079d8417de94",
   "metadata": {},
   "outputs": [],
   "source": [
    "import cstarpy\n",
    "import pandas as pd\n",
    "import os\n",
    "import numpy as np\n",
    "from cstarpy.separation import CellStateTransition"
   ]
  },
  {
   "cell_type": "markdown",
   "id": "c14ada75-07f2-4559-a674-16fa7f734f01",
   "metadata": {},
   "source": [
    "#Standarize indexes\n",
    "def index_sct_full_index(data,string):\n",
    "    data.reset_index(inplace=True)\n",
    "    data['index']=string+data['index']\n",
    "    data.set_index('index',inplace=True)\n",
    "    data.to_pickle(f\"{string}sct_lincs_index.pkl\")\n",
    "\n",
    "index_sct_full_index(GSM5288673_sub,\"GSM5288673_\")"
   ]
  },
  {
   "cell_type": "code",
   "execution_count": null,
   "id": "b794874a-fd34-47ac-8927-1e76bbd24f97",
   "metadata": {},
   "outputs": [],
   "source": [
    "#Input lincs/full+raw/sct\n",
    "GSM5288674_sub=pd.read_pickle(\"GSM5288674_sct_lincs_index.pkl\")\n",
    "GSM5288671_sub=pd.read_pickle(\"GSM5288671_sct_lincs_index.pkl\")\n",
    "GSM5288668_sub=pd.read_pickle(\"GSM5288668_sct_lincs_index.pkl\")\n",
    "GSM5288669_sub=pd.read_pickle(\"GSM5288669_sct_lincs_index.pkl\")\n",
    "GSM5288670_sub=pd.read_pickle(\"GSM5288670_sct_lincs_index.pkl\")\n",
    "GSM5288672_sub=pd.read_pickle(\"GSM5288672_sct_lincs_index.pkl\")\n",
    "GSM5288673_sub=pd.read_pickle(\"GSM5288673_sct_lincs_index.pkl\")"
   ]
  },
  {
   "cell_type": "markdown",
   "id": "fe2fa03e-754b-4bd4-bdba-0c2f72d2a29a",
   "metadata": {},
   "source": [
    "#strandarize indexes\n",
    "GSM5288669_sct_full_index.reset_index(inplace=True)\n",
    "GSM5288668_sct_full_index['index']=\"GSM5288668_\"+GSM5288668_sct_full_index['index']\n",
    "GSM5288668_sct_full_index.set_index('index',inplace=True)\n",
    "#GSM5288668_sct_full_index.to_pickle(f\"GSM5288668_sct_full_index.pkl\")\n"
   ]
  },
  {
   "cell_type": "code",
   "execution_count": null,
   "id": "333d2fb0-ac85-47d4-b3ee-16843cfc2964",
   "metadata": {},
   "outputs": [],
   "source": [
    "# What to do\n",
    "\n",
    "#Suppose you have two csts: cst_invasive and cst_onc"
   ]
  },
  {
   "cell_type": "code",
   "execution_count": null,
   "id": "b27cc632-5b25-490b-b0fa-098c5d52ebac",
   "metadata": {},
   "outputs": [],
   "source": [
    "#NMIBC vs MIBC\n",
    "NMIBC = pd.concat([GSM5288668_sub,GSM5288669_sub])\n",
    "NMIBC=NMIBC.reindex(columns=healthy.columns)\n",
    "MIBC =pd.concat([GSM5288670_sub,GSM5288671_sub])\n",
    "MIBC=MIBC.reindex(columns=healthy.columns)\n"
   ]
  },
  {
   "cell_type": "code",
   "execution_count": null,
   "id": "5b29c50a-a8cb-4fe2-9eea-ba44bf88e338",
   "metadata": {},
   "outputs": [],
   "source": [
    "#cst = CellStateTransition('test', NMIBC, MIBC, clf_kwargs={\"C\": 1})\n",
    "cst = CellStateTransition('test', NMIBC, MIBC)\n",
    "\n",
    "dpd_scores = cst.get_dpd()\n",
    "\n"
   ]
  },
  {
   "cell_type": "code",
   "execution_count": null,
   "id": "cd20f56a-e7fd-491a-8a27-a1c4eea7d75f",
   "metadata": {},
   "outputs": [],
   "source": [
    "norm_s_df = pd.DataFrame(np.stack([cst.n, cst.s], axis=1), index=cst.svm_input.data.columns, columns=[\"n\", \"s\"])"
   ]
  },
  {
   "cell_type": "code",
   "execution_count": null,
   "id": "b226539c-f7e7-459b-92bf-a1dfdbbbb49b",
   "metadata": {},
   "outputs": [],
   "source": [
    "#Healthy vs onc\n",
    "healthy=pd.concat([GSM5288672_sub,GSM5288674_sub])\n",
    "\n",
    "merged=pd.concat([GSM5288668_sub,GSM5288669_sub,GSM5288670_sub,GSM5288671_sub])\n",
    "merged =merged.reindex(columns=healthy.columns)\n",
    "cst_onc = CellStateTransition('onc',healthy, merged)\n",
    "dpd_onc_scores=cst_onc.get_dpd()\n",
    "dpd_onc_scores"
   ]
  },
  {
   "cell_type": "code",
   "execution_count": null,
   "id": "c7762c5e-d9aa-4b11-94ed-fcb143fe7855",
   "metadata": {},
   "outputs": [],
   "source": [
    "norm_s_onc_df = pd.DataFrame(np.stack([cst_onc.n, cst_onc.s], axis=1), index=cst_onc.svm_input.data.columns, columns=[\"n\", \"s\"])"
   ]
  },
  {
   "cell_type": "code",
   "execution_count": null,
   "id": "9a49621f-0d9b-4bd2-aa80-e921c56f6d83",
   "metadata": {},
   "outputs": [],
   "source": [
    "pd.to_pickle(dpd_scores,\"~/validation/output/dpd_lincs_sct6_onc_inv_raw4_N_M_BLCA.pkl\")\n",
    "pd.to_pickle(norm_s_df,\"~/validation/output/stv_lincs_sct6_onc_inv_raw4_N_M_BLCA.pkl\")"
   ]
  },
  {
   "cell_type": "code",
   "execution_count": null,
   "id": "027aa790-14c6-4ade-8773-f276fffd0f30",
   "metadata": {},
   "outputs": [],
   "source": [
    "pd.to_pickle(dpd_onc_scores,\"~/validation/output/dpd_lincs_sct6_onc_inv_raw4_healthy_onc.pkl\")\n",
    "pd.to_pickle(norm_s_onc_df,\"~/validation/output/stv_lincs_sct6_onc_inv_raw4_healthy_onc.pkl\")"
   ]
  },
  {
   "cell_type": "code",
   "execution_count": null,
   "id": "4bcf93a3-6990-4627-a26f-e0d6900f5be5",
   "metadata": {},
   "outputs": [],
   "source": [
    "data_all_cells = cst_onc.svm_input.data\n",
    "DPD_invasive = cst.get_dpd(data_all_cells)\n",
    "DPD_onc = cst_onc.get_dpd(data_all_cells)\n",
    "DPD_all = pd.concat([DPD_invasive, DPD_onc], axis=1)\n",
    "\n",
    "\n",
    "\n"
   ]
  },
  {
   "cell_type": "code",
   "execution_count": null,
   "id": "66abe1d2-01bc-479f-a947-50d729eba0d5",
   "metadata": {},
   "outputs": [],
   "source": [
    "pd.to_pickle(DPD_all,\"~/validation/output/plot_lincs_sct6_onc_inv_raw4.pkl\")"
   ]
  },
  {
   "cell_type": "code",
   "execution_count": null,
   "id": "0b6b8833-9d6d-4158-a3a4-eccca9d39bb9",
   "metadata": {},
   "outputs": [],
   "source": [
    "pd.to_pickle(DPD_all,\"~/validation/output/plot_all_sct_raw_lincs.pkl\")"
   ]
  },
  {
   "cell_type": "code",
   "execution_count": null,
   "id": "0ad20035-0d55-4e9d-a23d-a8307e36f802",
   "metadata": {},
   "outputs": [],
   "source": [
    "#output test on raw\n",
    "full=pd.concat([GSM5288668_sub,GSM5288669_sub,GSM5288670_sub,GSM5288671_sub,GSM5288672_sub,GSM5288674_sub])\n",
    "\n",
    "\n",
    "dpd_onc_scores_raw = np.dot(full,norm_s_onc_df['n'])\n",
    "dpd_onc_scores_raw_df=pd.DataFrame(dpd_onc_scores_raw, index=full.index,columns=['DPD_onc'])\n",
    "\n",
    "\n",
    "dpd_inv_scores_raw=np.dot(full,norm_s_df['n'])\n",
    "dpd_inv_scores_raw_df=pd.DataFrame(dpd_inv_scores_raw, index=full.index,columns=['DPD_inv'])\n",
    "\n",
    "DPD_all = pd.concat([dpd_inv_scores_raw_df, dpd_onc_scores_raw_df], axis=1)\n",
    "\n",
    "pd.to_pickle(DPD_all,\"~/validation/output/plot_all_sct_raw_lincs_final.pkl\")\n",
    "###\n",
    "#DPD_invasive_raw = cst.get_dpd(full)\n",
    "#DPD_onc_raw = cst_onc.get_dpd(full)\n"
   ]
  },
  {
   "cell_type": "code",
   "execution_count": null,
   "id": "b0bbdec1-31c0-4a86-8751-aba382541796",
   "metadata": {},
   "outputs": [],
   "source": [
    "#output test on sct\n",
    "full=pd.concat([GSM5288668_sub,GSM5288669_sub,GSM5288670_sub,GSM5288671_sub,GSM5288672_sub,GSM5288674_sub])\n",
    "\n",
    "\n",
    "dpd_onc_scores_sct = np.dot(full,norm_s_onc_df['n'])\n",
    "dpd_onc_scores_sct_df=pd.DataFrame(dpd_onc_scores_sct, index=full.index,columns=['DPD_onc'])\n",
    "\n",
    "\n",
    "dpd_inv_scores_sct=np.dot(full,norm_s_df['n'])\n",
    "dpd_inv_scores_sct_df=pd.DataFrame(dpd_inv_scores_sct, index=full.index,columns=['DPD_inv'])\n",
    "\n",
    "DPD_all = pd.concat([dpd_inv_scores_sct_df, dpd_onc_scores_sct_df], axis=1)\n",
    "pd.to_pickle(DPD_all,\"~/validation/output/plot_all_raw_sct_lincs.pkl\")"
   ]
  },
  {
   "cell_type": "code",
   "execution_count": null,
   "id": "d60e63b8-ed1d-4f7a-ade7-e62192c7aff9",
   "metadata": {},
   "outputs": [],
   "source": [
    "#k-fold \n",
    "\n",
    "DPD_all.reset_index(inplace=True)\n",
    "DPD_all['Type']= DPD_all['index'].str[0:10]\n",
    "DPD_all['Description']=0\n",
    "DPD_all.loc[DPD_all['Type'].isin([\"GSM5288671\", \"GSM5288670\"]), 'Description'] = \"MIBC\"\n",
    "DPD_all.loc[DPD_all['Type'].isin([\"GSM5288668\", \"GSM5288669\"]), 'Description'] = \"NMIBC\"\n",
    "\n",
    "DPD_all.loc[~DPD_all['Description'].isin([\"MIBC\", \"NMIBC\"]), 'Description'] = \"Healthy\"\n",
    "DPD_all.set_index(['index'],inplace=True)\n",
    "DPD_all"
   ]
  },
  {
   "cell_type": "code",
   "execution_count": null,
   "id": "9f5b8221-5d48-4f04-9fec-cd1367859395",
   "metadata": {},
   "outputs": [],
   "source": [
    "from sklearn.tree import DecisionTreeClassifier\n",
    "from sklearn.model_selection import KFold, cross_val_score\n",
    "clf = DecisionTreeClassifier(random_state=42)\n",
    "\n",
    "k_folds = KFold(n_splits = 7)\n",
    "\n",
    "scores = cross_val_score(clf, data_all_cells, DPD_all['Description'], cv = k_folds)\n",
    "print(\"Cross Validation Scores: \", np.round(scores,2))\n",
    "print(\"Average CV Score: \", np.round(scores.mean(),2))\n",
    "\n"
   ]
  },
  {
   "cell_type": "code",
   "execution_count": null,
   "id": "e3ae361c-100a-4359-988f-bd292e4f5b7c",
   "metadata": {},
   "outputs": [],
   "source": [
    "#Stratified\n",
    "from sklearn.model_selection import StratifiedKFold, cross_val_score\n",
    "\n",
    "\n",
    "clf = DecisionTreeClassifier(random_state=44)\n",
    "\n",
    "sk_folds = StratifiedKFold(n_splits = 7)\n",
    "\n",
    "scores = cross_val_score(clf, data_all_cells, DPD_all['Description'], cv = sk_folds)\n",
    "\n",
    "print(\"Cross Validation Scores: \", np.round(scores,2))\n",
    "print(\"Average CV Score: \", np.round(scores.mean(),2))\n"
   ]
  }
 ],
 "metadata": {
  "kernelspec": {
   "display_name": "Python 3 (ipykernel)",
   "language": "python",
   "name": "python3"
  },
  "language_info": {
   "codemirror_mode": {
    "name": "ipython",
    "version": 3
   },
   "file_extension": ".py",
   "mimetype": "text/x-python",
   "name": "python",
   "nbconvert_exporter": "python",
   "pygments_lexer": "ipython3",
   "version": "3.9.18"
  }
 },
 "nbformat": 4,
 "nbformat_minor": 5
}
